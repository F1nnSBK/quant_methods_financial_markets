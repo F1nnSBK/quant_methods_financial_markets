{
 "cells": [
  {
   "cell_type": "markdown",
   "id": "1fd8016e",
   "metadata": {},
   "source": [
    "# Interest, Coupons and Yields"
   ]
  },
  {
   "cell_type": "markdown",
   "id": "8ee561c0",
   "metadata": {},
   "source": [
    "## 1.1 Time Value of money\n",
    "\n",
    "Let $B(t_{0})$ be some amount of money invested at time $t_{0}$ (time in years) and the interest rate $R$%, to which the borrower agreed.  \n",
    "We can calculate the cash amount of the lender (after 1 year) as: (This is the amount of money, the borrower has to repay the lender)\n",
    "$$B(t_{0} + 1)=B(t_{0}) \\cdot (1 + \\frac{R}{100})$$  \n",
    "* $B(t_0)$: **Principal**\n",
    "* $R$: **Rate (%)**\n",
    "* $\\frac{R}{100}$: **Interest Rate**\n",
    "* $1 + \\frac{R}{100}$: **Growth Factor**\n",
    "* $B(t_0) \\cdot \\left(1 + \\frac{R}{100}\\right)$: **Future Value**  "
   ]
  },
  {
   "cell_type": "code",
   "execution_count": 1,
   "id": "933c4d0b",
   "metadata": {},
   "outputs": [
    {
     "data": {
      "text/plain": [
       "1050.0"
      ]
     },
     "execution_count": 1,
     "metadata": {},
     "output_type": "execute_result"
    }
   ],
   "source": [
    "# simple solution for only one year\n",
    "def calc_future_value(principal: int, rate: int) -> float:\n",
    "    return principal * (1 + (rate / 100))\n",
    "\n",
    "calc_future_value(1000, 5)"
   ]
  },
  {
   "cell_type": "markdown",
   "id": "75c93376",
   "metadata": {},
   "source": [
    "$$B(t_{n} + 1)=B(t_{n}) \\cdot (1 + \\frac{R}{100}), n \\in \\mathbb{N}$$  "
   ]
  },
  {
   "cell_type": "code",
   "execution_count": null,
   "id": "1eb8d354",
   "metadata": {},
   "outputs": [
    {
     "data": {
      "text/plain": [
       "1157.625"
      ]
     },
     "execution_count": 4,
     "metadata": {},
     "output_type": "execute_result"
    }
   ],
   "source": [
    "# extension for multiple year calculation\n",
    "def time_value_of_money(principal: int, rate: int, years: int = 1) -> float:\n",
    "    if years == 0:\n",
    "        return principal\n",
    "    else:\n",
    "        previous_year_value = time_value_of_money(principal, rate, years - 1)\n",
    "        return calc_future_value(previous_year_value, rate) # pyright: ignore (previous cell)\n",
    "\n",
    "time_value_of_money(1000, 5, 3)"
   ]
  },
  {
   "cell_type": "markdown",
   "id": "1f1ce7e0",
   "metadata": {},
   "source": [
    "## 1.2 Interest on Debt, Day-Count Conventions"
   ]
  }
 ],
 "metadata": {
  "kernelspec": {
   "display_name": ".venv",
   "language": "python",
   "name": "python3"
  },
  "language_info": {
   "codemirror_mode": {
    "name": "ipython",
    "version": 3
   },
   "file_extension": ".py",
   "mimetype": "text/x-python",
   "name": "python",
   "nbconvert_exporter": "python",
   "pygments_lexer": "ipython3",
   "version": "3.13.0"
  }
 },
 "nbformat": 4,
 "nbformat_minor": 5
}
